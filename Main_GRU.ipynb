{
 "cells": [
  {
   "cell_type": "markdown",
   "metadata": {},
   "source": [
    "### Khai báo các thư viện cần thiết"
   ]
  },
  {
   "cell_type": "code",
   "execution_count": 1,
   "metadata": {
    "execution": {
     "iopub.execute_input": "2025-06-15T08:30:28.294490Z",
     "iopub.status.busy": "2025-06-15T08:30:28.293972Z",
     "iopub.status.idle": "2025-06-15T08:31:18.760225Z",
     "shell.execute_reply": "2025-06-15T08:31:18.758978Z",
     "shell.execute_reply.started": "2025-06-15T08:30:28.294463Z"
    },
    "id": "xAR0S5xDeGbH",
    "trusted": true
   },
   "outputs": [
    {
     "name": "stderr",
     "output_type": "stream",
     "text": [
      "2025-06-15 08:30:28.594357: E external/local_xla/xla/stream_executor/cuda/cuda_fft.cc:477] Unable to register cuFFT factory: Attempting to register factory for plugin cuFFT when one has already been registered\n",
      "WARNING: All log messages before absl::InitializeLog() is called are written to STDERR\n",
      "E0000 00:00:1749976228.618829    1082 cuda_dnn.cc:8310] Unable to register cuDNN factory: Attempting to register factory for plugin cuDNN when one has already been registered\n",
      "E0000 00:00:1749976228.626180    1082 cuda_blas.cc:1418] Unable to register cuBLAS factory: Attempting to register factory for plugin cuBLAS when one has already been registered\n"
     ]
    }
   ],
   "source": [
    "import tensorflow as tf\n",
    "from tensorflow.keras.layers import Input, LSTM, GRU, Dense, Dropout, BatchNormalization\n",
    "from tensorflow.keras.models import Model\n",
    "from tensorflow.keras.optimizers import Adam\n",
    "from tensorflow.keras.callbacks import EarlyStopping, ReduceLROnPlateau\n",
    "from tensorflow.keras.preprocessing.sequence import pad_sequences\n",
    "from sklearn.model_selection import train_test_split\n",
    "from sklearn.preprocessing import OneHotEncoder\n",
    "import numpy as np\n",
    "import pandas as pd\n",
    "from gensim.models import Word2Vec\n",
    "from tensorflow.keras.layers import Embedding\n",
    "from tensorflow.keras.preprocessing.text import Tokenizer\n",
    "# from preprocess import TextPreprocessor"
   ]
  },
  {
   "cell_type": "code",
   "execution_count": 4,
   "metadata": {
    "execution": {
     "iopub.execute_input": "2025-06-15T08:31:22.061393Z",
     "iopub.status.busy": "2025-06-15T08:31:22.060802Z",
     "iopub.status.idle": "2025-06-15T08:31:24.582795Z",
     "shell.execute_reply": "2025-06-15T08:31:24.582231Z",
     "shell.execute_reply.started": "2025-06-15T08:31:22.061372Z"
    },
    "id": "2nmM3Vz_eGbI",
    "trusted": true
   },
   "outputs": [],
   "source": [
    "# 1️⃣ **Tải dữ liệu**\n",
    "data = pd.read_csv(r\"/kaggle/input/sadsadsa/Data.csv\")  # Thay bằng đường dẫn file dữ liệu của bạn"
   ]
  },
  {
   "cell_type": "markdown",
   "metadata": {
    "id": "9QB9UrNTeGbJ"
   },
   "source": [
    "### Tiền xử lí dữ liệu cho cột Content"
   ]
  },
  {
   "cell_type": "code",
   "execution_count": 5,
   "metadata": {
    "execution": {
     "iopub.execute_input": "2025-06-15T08:31:24.583816Z",
     "iopub.status.busy": "2025-06-15T08:31:24.583473Z",
     "iopub.status.idle": "2025-06-15T08:37:59.549851Z",
     "shell.execute_reply": "2025-06-15T08:37:59.548928Z",
     "shell.execute_reply.started": "2025-06-15T08:31:24.583792Z"
    },
    "id": "ckkOqnZ9eGbK",
    "trusted": true
   },
   "outputs": [],
   "source": [
    "preprocessor = TextPreprocessor(r'/kaggle/input/sadsadas/stopwords3.txt')\n",
    "data = preprocessor.preprocess_data(data)"
   ]
  },
  {
   "cell_type": "code",
   "execution_count": 6,
   "metadata": {
    "execution": {
     "iopub.execute_input": "2025-06-15T08:37:59.551207Z",
     "iopub.status.busy": "2025-06-15T08:37:59.550868Z",
     "iopub.status.idle": "2025-06-15T08:37:59.557100Z",
     "shell.execute_reply": "2025-06-15T08:37:59.556192Z",
     "shell.execute_reply.started": "2025-06-15T08:37:59.551178Z"
    },
    "id": "mG3sWCr3eGbK",
    "outputId": "9d2e9a15-2f73-4574-c4fb-bdf71065f8e5",
    "trusted": true
   },
   "outputs": [
    {
     "name": "stdout",
     "output_type": "stream",
     "text": [
      "0    tập_đoàn novaland ( nvl ) vừa công_bố chậm trả...\n",
      "1    trang_trại bò sữa hữu_cơ trang_trại nghệ_an tậ...\n",
      "2    đồ_thị vn - index \" mắc võng \" mô_hình : sắc x...\n",
      "3    lucas lee - tyson khai_thác sức_mạnh internet ...\n",
      "4    hầu_hết thị_trường chứng_khoán châu á giao_dịc...\n",
      "Name: Content, dtype: object\n"
     ]
    }
   ],
   "source": [
    "print(data['Content'].head())"
   ]
  },
  {
   "cell_type": "code",
   "execution_count": 7,
   "metadata": {
    "execution": {
     "iopub.execute_input": "2025-06-15T08:37:59.558163Z",
     "iopub.status.busy": "2025-06-15T08:37:59.557926Z",
     "iopub.status.idle": "2025-06-15T08:37:59.577075Z",
     "shell.execute_reply": "2025-06-15T08:37:59.576455Z",
     "shell.execute_reply.started": "2025-06-15T08:37:59.558118Z"
    },
    "id": "LOzJdMxveGbL",
    "trusted": true
   },
   "outputs": [],
   "source": [
    "max_words = 20000\n",
    "max_len = 1000"
   ]
  },
  {
   "cell_type": "markdown",
   "metadata": {},
   "source": [
    "### Mã hóa"
   ]
  },
  {
   "cell_type": "code",
   "execution_count": 8,
   "metadata": {
    "execution": {
     "iopub.execute_input": "2025-06-15T08:37:59.577985Z",
     "iopub.status.busy": "2025-06-15T08:37:59.577794Z",
     "iopub.status.idle": "2025-06-15T08:38:01.232782Z",
     "shell.execute_reply": "2025-06-15T08:38:01.232183Z",
     "shell.execute_reply.started": "2025-06-15T08:37:59.577968Z"
    },
    "id": "DPrHmzyVeGbL",
    "trusted": true
   },
   "outputs": [],
   "source": [
    "X_texts = data['Content'].apply(lambda x: x.split())  # Tách câu thành danh sách từ\n",
    "ohe = OneHotEncoder()\n",
    "y = ohe.fit_transform(data[['Label']]).toarray()  # Chuyển nhãn thành numpy array"
   ]
  },
  {
   "cell_type": "code",
   "execution_count": 9,
   "metadata": {
    "execution": {
     "iopub.execute_input": "2025-06-15T08:38:01.233758Z",
     "iopub.status.busy": "2025-06-15T08:38:01.233547Z",
     "iopub.status.idle": "2025-06-15T08:38:01.242785Z",
     "shell.execute_reply": "2025-06-15T08:38:01.242101Z",
     "shell.execute_reply.started": "2025-06-15T08:38:01.233740Z"
    },
    "id": "8i6HECGseGbL",
    "outputId": "87c75e9d-2ddf-4884-8b46-19b60cd95297",
    "trusted": true
   },
   "outputs": [
    {
     "name": "stdout",
     "output_type": "stream",
     "text": [
      "0        [tập_đoàn, novaland, (, nvl, ), vừa, công_bố, ...\n",
      "1        [trang_trại, bò, sữa, hữu_cơ, trang_trại, nghệ...\n",
      "2        [đồ_thị, vn, -, index, \", mắc, võng, \", mô_hìn...\n",
      "3        [lucas, lee, -, tyson, khai_thác, sức_mạnh, in...\n",
      "4        [hầu_hết, thị_trường, chứng_khoán, châu, á, gi...\n",
      "                               ...                        \n",
      "28621    [nửa_đêm, ,, cảnh_sát, cuộc_gọi, trình_báo, ma...\n",
      "28622    [,, marlene, warren, ,, ,, trai, tên, joseph, ...\n",
      "28623    [tối, ,, tumd, youqi, ,, thành_phố, bao, ,, kh...\n",
      "28624    [,, alisa, mathewson, giật, tỉnh_giấc, phòng, ...\n",
      "28625    [,, tổng_đài, cảnh_sát, huyện, mông, thành, ,,...\n",
      "Name: Content, Length: 28626, dtype: object\n"
     ]
    }
   ],
   "source": [
    "print(X_texts)"
   ]
  },
  {
   "cell_type": "markdown",
   "metadata": {},
   "source": [
    "### Huấn luyện mô hình Word2Vec"
   ]
  },
  {
   "cell_type": "code",
   "execution_count": 10,
   "metadata": {
    "execution": {
     "iopub.execute_input": "2025-06-15T08:38:01.245202Z",
     "iopub.status.busy": "2025-06-15T08:38:01.244931Z",
     "iopub.status.idle": "2025-06-15T08:39:02.141058Z",
     "shell.execute_reply": "2025-06-15T08:39:02.140495Z",
     "shell.execute_reply.started": "2025-06-15T08:38:01.245177Z"
    },
    "id": "5QXYSDedeGbL",
    "trusted": true
   },
   "outputs": [],
   "source": [
    "w2v_model = Word2Vec(sentences=X_texts, vector_size=150, window=5, min_count=1, workers=4)"
   ]
  },
  {
   "cell_type": "markdown",
   "metadata": {},
   "source": [
    "### Tạo từ điển ánh xạ từ → embedding"
   ]
  },
  {
   "cell_type": "code",
   "execution_count": 11,
   "metadata": {
    "execution": {
     "iopub.execute_input": "2025-06-15T08:39:02.142020Z",
     "iopub.status.busy": "2025-06-15T08:39:02.141809Z",
     "iopub.status.idle": "2025-06-15T08:39:02.255947Z",
     "shell.execute_reply": "2025-06-15T08:39:02.255385Z",
     "shell.execute_reply.started": "2025-06-15T08:39:02.142002Z"
    },
    "id": "Vjo45CQjeGbL",
    "trusted": true
   },
   "outputs": [],
   "source": [
    "\n",
    "embedding_matrix = np.zeros((max_words, 150))\n",
    "word_index = {word: i+1 for i, word in enumerate(w2v_model.wv.index_to_key)}  # Bắt đầu từ 1 vì 0 dành cho padding\n",
    "\n",
    "for word, i in word_index.items():\n",
    "    if i < max_words:\n",
    "        embedding_matrix[i] = w2v_model.wv[word]"
   ]
  },
  {
   "cell_type": "markdown",
   "metadata": {},
   "source": [
    "### Mã hóa văn bản bằng Word2Vec"
   ]
  },
  {
   "cell_type": "code",
   "execution_count": 12,
   "metadata": {
    "execution": {
     "iopub.execute_input": "2025-06-15T08:39:02.257123Z",
     "iopub.status.busy": "2025-06-15T08:39:02.256839Z",
     "iopub.status.idle": "2025-06-15T08:39:02.261065Z",
     "shell.execute_reply": "2025-06-15T08:39:02.260330Z",
     "shell.execute_reply.started": "2025-06-15T08:39:02.257097Z"
    },
    "id": "Ulhj44AleGbL",
    "trusted": true
   },
   "outputs": [],
   "source": [
    "tokenizer = Tokenizer(num_words=max_words)\n",
    "tokenizer.word_index = word_index  # Ánh xạ word2vec vào tokenizer"
   ]
  },
  {
   "cell_type": "code",
   "execution_count": 13,
   "metadata": {
    "execution": {
     "iopub.execute_input": "2025-06-15T08:39:02.262574Z",
     "iopub.status.busy": "2025-06-15T08:39:02.262056Z",
     "iopub.status.idle": "2025-06-15T08:39:06.471037Z",
     "shell.execute_reply": "2025-06-15T08:39:06.470469Z",
     "shell.execute_reply.started": "2025-06-15T08:39:02.262547Z"
    },
    "id": "BJyiFqk2eGbM",
    "trusted": true
   },
   "outputs": [],
   "source": [
    "X = tokenizer.texts_to_sequences(X_texts)\n",
    "X = pad_sequences(X, maxlen=max_len)"
   ]
  },
  {
   "cell_type": "markdown",
   "metadata": {},
   "source": [
    "### Chia tập train/test 85:15"
   ]
  },
  {
   "cell_type": "code",
   "execution_count": 14,
   "metadata": {
    "execution": {
     "iopub.execute_input": "2025-06-15T08:39:06.472144Z",
     "iopub.status.busy": "2025-06-15T08:39:06.471907Z",
     "iopub.status.idle": "2025-06-15T08:39:06.515346Z",
     "shell.execute_reply": "2025-06-15T08:39:06.514433Z",
     "shell.execute_reply.started": "2025-06-15T08:39:06.472114Z"
    },
    "id": "gV2nPKc8eGbM",
    "trusted": true
   },
   "outputs": [],
   "source": [
    "X_train, X_test, y_train, y_test = train_test_split(\n",
    "    X, y, test_size=0.15, random_state=100)"
   ]
  },
  {
   "cell_type": "markdown",
   "metadata": {},
   "source": [
    "### Xây dựng model GRU"
   ]
  },
  {
   "cell_type": "code",
   "execution_count": 15,
   "metadata": {
    "execution": {
     "iopub.execute_input": "2025-06-15T08:39:06.516469Z",
     "iopub.status.busy": "2025-06-15T08:39:06.516266Z",
     "iopub.status.idle": "2025-06-15T08:39:07.894619Z",
     "shell.execute_reply": "2025-06-15T08:39:07.893777Z",
     "shell.execute_reply.started": "2025-06-15T08:39:06.516452Z"
    },
    "id": "hTBKo0yQeGbM",
    "trusted": true
   },
   "outputs": [
    {
     "name": "stderr",
     "output_type": "stream",
     "text": [
      "I0000 00:00:1749976746.897468    1082 gpu_device.cc:2022] Created device /job:localhost/replica:0/task:0/device:GPU:0 with 13942 MB memory:  -> device: 0, name: Tesla T4, pci bus id: 0000:00:04.0, compute capability: 7.5\n",
      "I0000 00:00:1749976746.898083    1082 gpu_device.cc:2022] Created device /job:localhost/replica:0/task:0/device:GPU:1 with 13942 MB memory:  -> device: 1, name: Tesla T4, pci bus id: 0000:00:05.0, compute capability: 7.5\n"
     ]
    }
   ],
   "source": [
    "from tensorflow.keras.layers import LSTM, Bidirectional, Activation\n",
    "def define_model1():\n",
    "    inputs = Input(shape=(max_len,))\n",
    "    embedding = Embedding(input_dim=max_words, output_dim=150, weights=[embedding_matrix], trainable=False)(inputs)\n",
    "\n",
    "    layer = GRU(128, return_sequences=True)(embedding)\n",
    "    layer = GRU(64, return_sequences=True)(layer)\n",
    "    layer = GRU(32, return_sequences=False)(layer)\n",
    "\n",
    "    layer = Dense(128)(layer)\n",
    "    layer = BatchNormalization()(layer)  # Đặt BatchNorm trước activation\n",
    "    layer = Activation('relu')(layer)  # Hàm kích hoạt\n",
    "    layer = Dropout(0.5)(layer)\n",
    "\n",
    "    layer = Dense(64)(layer)\n",
    "    layer = BatchNormalization()(layer)  # Đặt BatchNorm trước activation\n",
    "    layer = Activation('relu')(layer)  # Hàm kích hoạt\n",
    "    layer = Dropout(0.3)(layer)\n",
    "\n",
    "    layer = Dense(32)(layer)\n",
    "    layer = BatchNormalization()(layer)  # Đặt BatchNorm trước activation\n",
    "    layer = Activation('relu')(layer)  # Hàm kích hoạt\n",
    "    layer = Dropout(0.1)(layer)\n",
    "\n",
    "    layer = Dense(13, activation='softmax')(layer)  # Lớp đầu ra\n",
    "\n",
    "    model1 = Model(inputs=inputs, outputs=layer)\n",
    "    model1.compile(loss='categorical_crossentropy', optimizer=Adam(learning_rate=1e-4), metrics=['accuracy'])\n",
    "\n",
    "    return model1\n",
    "\n",
    "model1 = define_model1()"
   ]
  },
  {
   "cell_type": "code",
   "execution_count": 16,
   "metadata": {
    "execution": {
     "iopub.execute_input": "2025-06-15T08:39:07.895801Z",
     "iopub.status.busy": "2025-06-15T08:39:07.895564Z",
     "iopub.status.idle": "2025-06-15T08:39:07.920892Z",
     "shell.execute_reply": "2025-06-15T08:39:07.920347Z",
     "shell.execute_reply.started": "2025-06-15T08:39:07.895782Z"
    },
    "id": "u2bsXICweGbM",
    "outputId": "537f0dab-1ff2-4414-ad62-68a63bcfb9f4",
    "trusted": true
   },
   "outputs": [
    {
     "data": {
      "text/html": [
       "<pre style=\"white-space:pre;overflow-x:auto;line-height:normal;font-family:Menlo,'DejaVu Sans Mono',consolas,'Courier New',monospace\"><span style=\"font-weight: bold\">Model: \"functional\"</span>\n",
       "</pre>\n"
      ],
      "text/plain": [
       "\u001b[1mModel: \"functional\"\u001b[0m\n"
      ]
     },
     "metadata": {},
     "output_type": "display_data"
    },
    {
     "data": {
      "text/html": [
       "<pre style=\"white-space:pre;overflow-x:auto;line-height:normal;font-family:Menlo,'DejaVu Sans Mono',consolas,'Courier New',monospace\">┏━━━━━━━━━━━━━━━━━━━━━━━━━━━━━━━━━━━━━━┳━━━━━━━━━━━━━━━━━━━━━━━━━━━━━┳━━━━━━━━━━━━━━━━━┓\n",
       "┃<span style=\"font-weight: bold\"> Layer (type)                         </span>┃<span style=\"font-weight: bold\"> Output Shape                </span>┃<span style=\"font-weight: bold\">         Param # </span>┃\n",
       "┡━━━━━━━━━━━━━━━━━━━━━━━━━━━━━━━━━━━━━━╇━━━━━━━━━━━━━━━━━━━━━━━━━━━━━╇━━━━━━━━━━━━━━━━━┩\n",
       "│ input_layer (<span style=\"color: #0087ff; text-decoration-color: #0087ff\">InputLayer</span>)             │ (<span style=\"color: #00d7ff; text-decoration-color: #00d7ff\">None</span>, <span style=\"color: #00af00; text-decoration-color: #00af00\">1000</span>)                │               <span style=\"color: #00af00; text-decoration-color: #00af00\">0</span> │\n",
       "├──────────────────────────────────────┼─────────────────────────────┼─────────────────┤\n",
       "│ embedding (<span style=\"color: #0087ff; text-decoration-color: #0087ff\">Embedding</span>)                │ (<span style=\"color: #00d7ff; text-decoration-color: #00d7ff\">None</span>, <span style=\"color: #00af00; text-decoration-color: #00af00\">1000</span>, <span style=\"color: #00af00; text-decoration-color: #00af00\">150</span>)           │       <span style=\"color: #00af00; text-decoration-color: #00af00\">3,000,000</span> │\n",
       "├──────────────────────────────────────┼─────────────────────────────┼─────────────────┤\n",
       "│ gru (<span style=\"color: #0087ff; text-decoration-color: #0087ff\">GRU</span>)                            │ (<span style=\"color: #00d7ff; text-decoration-color: #00d7ff\">None</span>, <span style=\"color: #00af00; text-decoration-color: #00af00\">1000</span>, <span style=\"color: #00af00; text-decoration-color: #00af00\">128</span>)           │         <span style=\"color: #00af00; text-decoration-color: #00af00\">107,520</span> │\n",
       "├──────────────────────────────────────┼─────────────────────────────┼─────────────────┤\n",
       "│ gru_1 (<span style=\"color: #0087ff; text-decoration-color: #0087ff\">GRU</span>)                          │ (<span style=\"color: #00d7ff; text-decoration-color: #00d7ff\">None</span>, <span style=\"color: #00af00; text-decoration-color: #00af00\">1000</span>, <span style=\"color: #00af00; text-decoration-color: #00af00\">64</span>)            │          <span style=\"color: #00af00; text-decoration-color: #00af00\">37,248</span> │\n",
       "├──────────────────────────────────────┼─────────────────────────────┼─────────────────┤\n",
       "│ gru_2 (<span style=\"color: #0087ff; text-decoration-color: #0087ff\">GRU</span>)                          │ (<span style=\"color: #00d7ff; text-decoration-color: #00d7ff\">None</span>, <span style=\"color: #00af00; text-decoration-color: #00af00\">32</span>)                  │           <span style=\"color: #00af00; text-decoration-color: #00af00\">9,408</span> │\n",
       "├──────────────────────────────────────┼─────────────────────────────┼─────────────────┤\n",
       "│ dense (<span style=\"color: #0087ff; text-decoration-color: #0087ff\">Dense</span>)                        │ (<span style=\"color: #00d7ff; text-decoration-color: #00d7ff\">None</span>, <span style=\"color: #00af00; text-decoration-color: #00af00\">128</span>)                 │           <span style=\"color: #00af00; text-decoration-color: #00af00\">4,224</span> │\n",
       "├──────────────────────────────────────┼─────────────────────────────┼─────────────────┤\n",
       "│ batch_normalization                  │ (<span style=\"color: #00d7ff; text-decoration-color: #00d7ff\">None</span>, <span style=\"color: #00af00; text-decoration-color: #00af00\">128</span>)                 │             <span style=\"color: #00af00; text-decoration-color: #00af00\">512</span> │\n",
       "│ (<span style=\"color: #0087ff; text-decoration-color: #0087ff\">BatchNormalization</span>)                 │                             │                 │\n",
       "├──────────────────────────────────────┼─────────────────────────────┼─────────────────┤\n",
       "│ activation (<span style=\"color: #0087ff; text-decoration-color: #0087ff\">Activation</span>)              │ (<span style=\"color: #00d7ff; text-decoration-color: #00d7ff\">None</span>, <span style=\"color: #00af00; text-decoration-color: #00af00\">128</span>)                 │               <span style=\"color: #00af00; text-decoration-color: #00af00\">0</span> │\n",
       "├──────────────────────────────────────┼─────────────────────────────┼─────────────────┤\n",
       "│ dropout (<span style=\"color: #0087ff; text-decoration-color: #0087ff\">Dropout</span>)                    │ (<span style=\"color: #00d7ff; text-decoration-color: #00d7ff\">None</span>, <span style=\"color: #00af00; text-decoration-color: #00af00\">128</span>)                 │               <span style=\"color: #00af00; text-decoration-color: #00af00\">0</span> │\n",
       "├──────────────────────────────────────┼─────────────────────────────┼─────────────────┤\n",
       "│ dense_1 (<span style=\"color: #0087ff; text-decoration-color: #0087ff\">Dense</span>)                      │ (<span style=\"color: #00d7ff; text-decoration-color: #00d7ff\">None</span>, <span style=\"color: #00af00; text-decoration-color: #00af00\">64</span>)                  │           <span style=\"color: #00af00; text-decoration-color: #00af00\">8,256</span> │\n",
       "├──────────────────────────────────────┼─────────────────────────────┼─────────────────┤\n",
       "│ batch_normalization_1                │ (<span style=\"color: #00d7ff; text-decoration-color: #00d7ff\">None</span>, <span style=\"color: #00af00; text-decoration-color: #00af00\">64</span>)                  │             <span style=\"color: #00af00; text-decoration-color: #00af00\">256</span> │\n",
       "│ (<span style=\"color: #0087ff; text-decoration-color: #0087ff\">BatchNormalization</span>)                 │                             │                 │\n",
       "├──────────────────────────────────────┼─────────────────────────────┼─────────────────┤\n",
       "│ activation_1 (<span style=\"color: #0087ff; text-decoration-color: #0087ff\">Activation</span>)            │ (<span style=\"color: #00d7ff; text-decoration-color: #00d7ff\">None</span>, <span style=\"color: #00af00; text-decoration-color: #00af00\">64</span>)                  │               <span style=\"color: #00af00; text-decoration-color: #00af00\">0</span> │\n",
       "├──────────────────────────────────────┼─────────────────────────────┼─────────────────┤\n",
       "│ dropout_1 (<span style=\"color: #0087ff; text-decoration-color: #0087ff\">Dropout</span>)                  │ (<span style=\"color: #00d7ff; text-decoration-color: #00d7ff\">None</span>, <span style=\"color: #00af00; text-decoration-color: #00af00\">64</span>)                  │               <span style=\"color: #00af00; text-decoration-color: #00af00\">0</span> │\n",
       "├──────────────────────────────────────┼─────────────────────────────┼─────────────────┤\n",
       "│ dense_2 (<span style=\"color: #0087ff; text-decoration-color: #0087ff\">Dense</span>)                      │ (<span style=\"color: #00d7ff; text-decoration-color: #00d7ff\">None</span>, <span style=\"color: #00af00; text-decoration-color: #00af00\">32</span>)                  │           <span style=\"color: #00af00; text-decoration-color: #00af00\">2,080</span> │\n",
       "├──────────────────────────────────────┼─────────────────────────────┼─────────────────┤\n",
       "│ batch_normalization_2                │ (<span style=\"color: #00d7ff; text-decoration-color: #00d7ff\">None</span>, <span style=\"color: #00af00; text-decoration-color: #00af00\">32</span>)                  │             <span style=\"color: #00af00; text-decoration-color: #00af00\">128</span> │\n",
       "│ (<span style=\"color: #0087ff; text-decoration-color: #0087ff\">BatchNormalization</span>)                 │                             │                 │\n",
       "├──────────────────────────────────────┼─────────────────────────────┼─────────────────┤\n",
       "│ activation_2 (<span style=\"color: #0087ff; text-decoration-color: #0087ff\">Activation</span>)            │ (<span style=\"color: #00d7ff; text-decoration-color: #00d7ff\">None</span>, <span style=\"color: #00af00; text-decoration-color: #00af00\">32</span>)                  │               <span style=\"color: #00af00; text-decoration-color: #00af00\">0</span> │\n",
       "├──────────────────────────────────────┼─────────────────────────────┼─────────────────┤\n",
       "│ dropout_2 (<span style=\"color: #0087ff; text-decoration-color: #0087ff\">Dropout</span>)                  │ (<span style=\"color: #00d7ff; text-decoration-color: #00d7ff\">None</span>, <span style=\"color: #00af00; text-decoration-color: #00af00\">32</span>)                  │               <span style=\"color: #00af00; text-decoration-color: #00af00\">0</span> │\n",
       "├──────────────────────────────────────┼─────────────────────────────┼─────────────────┤\n",
       "│ dense_3 (<span style=\"color: #0087ff; text-decoration-color: #0087ff\">Dense</span>)                      │ (<span style=\"color: #00d7ff; text-decoration-color: #00d7ff\">None</span>, <span style=\"color: #00af00; text-decoration-color: #00af00\">13</span>)                  │             <span style=\"color: #00af00; text-decoration-color: #00af00\">429</span> │\n",
       "└──────────────────────────────────────┴─────────────────────────────┴─────────────────┘\n",
       "</pre>\n"
      ],
      "text/plain": [
       "┏━━━━━━━━━━━━━━━━━━━━━━━━━━━━━━━━━━━━━━┳━━━━━━━━━━━━━━━━━━━━━━━━━━━━━┳━━━━━━━━━━━━━━━━━┓\n",
       "┃\u001b[1m \u001b[0m\u001b[1mLayer (type)                        \u001b[0m\u001b[1m \u001b[0m┃\u001b[1m \u001b[0m\u001b[1mOutput Shape               \u001b[0m\u001b[1m \u001b[0m┃\u001b[1m \u001b[0m\u001b[1m        Param #\u001b[0m\u001b[1m \u001b[0m┃\n",
       "┡━━━━━━━━━━━━━━━━━━━━━━━━━━━━━━━━━━━━━━╇━━━━━━━━━━━━━━━━━━━━━━━━━━━━━╇━━━━━━━━━━━━━━━━━┩\n",
       "│ input_layer (\u001b[38;5;33mInputLayer\u001b[0m)             │ (\u001b[38;5;45mNone\u001b[0m, \u001b[38;5;34m1000\u001b[0m)                │               \u001b[38;5;34m0\u001b[0m │\n",
       "├──────────────────────────────────────┼─────────────────────────────┼─────────────────┤\n",
       "│ embedding (\u001b[38;5;33mEmbedding\u001b[0m)                │ (\u001b[38;5;45mNone\u001b[0m, \u001b[38;5;34m1000\u001b[0m, \u001b[38;5;34m150\u001b[0m)           │       \u001b[38;5;34m3,000,000\u001b[0m │\n",
       "├──────────────────────────────────────┼─────────────────────────────┼─────────────────┤\n",
       "│ gru (\u001b[38;5;33mGRU\u001b[0m)                            │ (\u001b[38;5;45mNone\u001b[0m, \u001b[38;5;34m1000\u001b[0m, \u001b[38;5;34m128\u001b[0m)           │         \u001b[38;5;34m107,520\u001b[0m │\n",
       "├──────────────────────────────────────┼─────────────────────────────┼─────────────────┤\n",
       "│ gru_1 (\u001b[38;5;33mGRU\u001b[0m)                          │ (\u001b[38;5;45mNone\u001b[0m, \u001b[38;5;34m1000\u001b[0m, \u001b[38;5;34m64\u001b[0m)            │          \u001b[38;5;34m37,248\u001b[0m │\n",
       "├──────────────────────────────────────┼─────────────────────────────┼─────────────────┤\n",
       "│ gru_2 (\u001b[38;5;33mGRU\u001b[0m)                          │ (\u001b[38;5;45mNone\u001b[0m, \u001b[38;5;34m32\u001b[0m)                  │           \u001b[38;5;34m9,408\u001b[0m │\n",
       "├──────────────────────────────────────┼─────────────────────────────┼─────────────────┤\n",
       "│ dense (\u001b[38;5;33mDense\u001b[0m)                        │ (\u001b[38;5;45mNone\u001b[0m, \u001b[38;5;34m128\u001b[0m)                 │           \u001b[38;5;34m4,224\u001b[0m │\n",
       "├──────────────────────────────────────┼─────────────────────────────┼─────────────────┤\n",
       "│ batch_normalization                  │ (\u001b[38;5;45mNone\u001b[0m, \u001b[38;5;34m128\u001b[0m)                 │             \u001b[38;5;34m512\u001b[0m │\n",
       "│ (\u001b[38;5;33mBatchNormalization\u001b[0m)                 │                             │                 │\n",
       "├──────────────────────────────────────┼─────────────────────────────┼─────────────────┤\n",
       "│ activation (\u001b[38;5;33mActivation\u001b[0m)              │ (\u001b[38;5;45mNone\u001b[0m, \u001b[38;5;34m128\u001b[0m)                 │               \u001b[38;5;34m0\u001b[0m │\n",
       "├──────────────────────────────────────┼─────────────────────────────┼─────────────────┤\n",
       "│ dropout (\u001b[38;5;33mDropout\u001b[0m)                    │ (\u001b[38;5;45mNone\u001b[0m, \u001b[38;5;34m128\u001b[0m)                 │               \u001b[38;5;34m0\u001b[0m │\n",
       "├──────────────────────────────────────┼─────────────────────────────┼─────────────────┤\n",
       "│ dense_1 (\u001b[38;5;33mDense\u001b[0m)                      │ (\u001b[38;5;45mNone\u001b[0m, \u001b[38;5;34m64\u001b[0m)                  │           \u001b[38;5;34m8,256\u001b[0m │\n",
       "├──────────────────────────────────────┼─────────────────────────────┼─────────────────┤\n",
       "│ batch_normalization_1                │ (\u001b[38;5;45mNone\u001b[0m, \u001b[38;5;34m64\u001b[0m)                  │             \u001b[38;5;34m256\u001b[0m │\n",
       "│ (\u001b[38;5;33mBatchNormalization\u001b[0m)                 │                             │                 │\n",
       "├──────────────────────────────────────┼─────────────────────────────┼─────────────────┤\n",
       "│ activation_1 (\u001b[38;5;33mActivation\u001b[0m)            │ (\u001b[38;5;45mNone\u001b[0m, \u001b[38;5;34m64\u001b[0m)                  │               \u001b[38;5;34m0\u001b[0m │\n",
       "├──────────────────────────────────────┼─────────────────────────────┼─────────────────┤\n",
       "│ dropout_1 (\u001b[38;5;33mDropout\u001b[0m)                  │ (\u001b[38;5;45mNone\u001b[0m, \u001b[38;5;34m64\u001b[0m)                  │               \u001b[38;5;34m0\u001b[0m │\n",
       "├──────────────────────────────────────┼─────────────────────────────┼─────────────────┤\n",
       "│ dense_2 (\u001b[38;5;33mDense\u001b[0m)                      │ (\u001b[38;5;45mNone\u001b[0m, \u001b[38;5;34m32\u001b[0m)                  │           \u001b[38;5;34m2,080\u001b[0m │\n",
       "├──────────────────────────────────────┼─────────────────────────────┼─────────────────┤\n",
       "│ batch_normalization_2                │ (\u001b[38;5;45mNone\u001b[0m, \u001b[38;5;34m32\u001b[0m)                  │             \u001b[38;5;34m128\u001b[0m │\n",
       "│ (\u001b[38;5;33mBatchNormalization\u001b[0m)                 │                             │                 │\n",
       "├──────────────────────────────────────┼─────────────────────────────┼─────────────────┤\n",
       "│ activation_2 (\u001b[38;5;33mActivation\u001b[0m)            │ (\u001b[38;5;45mNone\u001b[0m, \u001b[38;5;34m32\u001b[0m)                  │               \u001b[38;5;34m0\u001b[0m │\n",
       "├──────────────────────────────────────┼─────────────────────────────┼─────────────────┤\n",
       "│ dropout_2 (\u001b[38;5;33mDropout\u001b[0m)                  │ (\u001b[38;5;45mNone\u001b[0m, \u001b[38;5;34m32\u001b[0m)                  │               \u001b[38;5;34m0\u001b[0m │\n",
       "├──────────────────────────────────────┼─────────────────────────────┼─────────────────┤\n",
       "│ dense_3 (\u001b[38;5;33mDense\u001b[0m)                      │ (\u001b[38;5;45mNone\u001b[0m, \u001b[38;5;34m13\u001b[0m)                  │             \u001b[38;5;34m429\u001b[0m │\n",
       "└──────────────────────────────────────┴─────────────────────────────┴─────────────────┘\n"
      ]
     },
     "metadata": {},
     "output_type": "display_data"
    },
    {
     "data": {
      "text/html": [
       "<pre style=\"white-space:pre;overflow-x:auto;line-height:normal;font-family:Menlo,'DejaVu Sans Mono',consolas,'Courier New',monospace\"><span style=\"font-weight: bold\"> Total params: </span><span style=\"color: #00af00; text-decoration-color: #00af00\">3,170,061</span> (12.09 MB)\n",
       "</pre>\n"
      ],
      "text/plain": [
       "\u001b[1m Total params: \u001b[0m\u001b[38;5;34m3,170,061\u001b[0m (12.09 MB)\n"
      ]
     },
     "metadata": {},
     "output_type": "display_data"
    },
    {
     "data": {
      "text/html": [
       "<pre style=\"white-space:pre;overflow-x:auto;line-height:normal;font-family:Menlo,'DejaVu Sans Mono',consolas,'Courier New',monospace\"><span style=\"font-weight: bold\"> Trainable params: </span><span style=\"color: #00af00; text-decoration-color: #00af00\">169,613</span> (662.55 KB)\n",
       "</pre>\n"
      ],
      "text/plain": [
       "\u001b[1m Trainable params: \u001b[0m\u001b[38;5;34m169,613\u001b[0m (662.55 KB)\n"
      ]
     },
     "metadata": {},
     "output_type": "display_data"
    },
    {
     "data": {
      "text/html": [
       "<pre style=\"white-space:pre;overflow-x:auto;line-height:normal;font-family:Menlo,'DejaVu Sans Mono',consolas,'Courier New',monospace\"><span style=\"font-weight: bold\"> Non-trainable params: </span><span style=\"color: #00af00; text-decoration-color: #00af00\">3,000,448</span> (11.45 MB)\n",
       "</pre>\n"
      ],
      "text/plain": [
       "\u001b[1m Non-trainable params: \u001b[0m\u001b[38;5;34m3,000,448\u001b[0m (11.45 MB)\n"
      ]
     },
     "metadata": {},
     "output_type": "display_data"
    }
   ],
   "source": [
    "model1.summary()"
   ]
  },
  {
   "cell_type": "markdown",
   "metadata": {},
   "source": [
    "### Huấn luyện model GRU"
   ]
  },
  {
   "cell_type": "code",
   "execution_count": 17,
   "metadata": {
    "execution": {
     "iopub.execute_input": "2025-06-15T08:39:07.921701Z",
     "iopub.status.busy": "2025-06-15T08:39:07.921513Z",
     "iopub.status.idle": "2025-06-15T09:20:17.251433Z",
     "shell.execute_reply": "2025-06-15T09:20:17.250698Z",
     "shell.execute_reply.started": "2025-06-15T08:39:07.921685Z"
    },
    "id": "sq_5pLFiSjxk",
    "outputId": "cab3ece1-6774-42a0-8df5-541591fd93d0",
    "trusted": true
   },
   "outputs": [
    {
     "name": "stdout",
     "output_type": "stream",
     "text": [
      "Epoch 1/40\n"
     ]
    },
    {
     "name": "stderr",
     "output_type": "stream",
     "text": [
      "I0000 00:00:1749976756.078049    1154 cuda_dnn.cc:529] Loaded cuDNN version 90300\n"
     ]
    },
    {
     "name": "stdout",
     "output_type": "stream",
     "text": [
      "\u001b[1m677/677\u001b[0m \u001b[32m━━━━━━━━━━━━━━━━━━━━\u001b[0m\u001b[37m\u001b[0m \u001b[1m0s\u001b[0m 86ms/step - accuracy: 0.1171 - loss: 2.6730\n",
      "Epoch 1: val_loss improved from inf to 2.07199, saving model to Gru_model.keras\n",
      "\u001b[1m677/677\u001b[0m \u001b[32m━━━━━━━━━━━━━━━━━━━━\u001b[0m\u001b[37m\u001b[0m \u001b[1m72s\u001b[0m 91ms/step - accuracy: 0.1172 - loss: 2.6728 - val_accuracy: 0.3687 - val_loss: 2.0720\n",
      "Epoch 2/40\n",
      "\u001b[1m677/677\u001b[0m \u001b[32m━━━━━━━━━━━━━━━━━━━━\u001b[0m\u001b[37m\u001b[0m \u001b[1m0s\u001b[0m 86ms/step - accuracy: 0.2836 - loss: 2.1787\n",
      "Epoch 2: val_loss improved from 2.07199 to 1.78314, saving model to Gru_model.keras\n",
      "\u001b[1m677/677\u001b[0m \u001b[32m━━━━━━━━━━━━━━━━━━━━\u001b[0m\u001b[37m\u001b[0m \u001b[1m61s\u001b[0m 90ms/step - accuracy: 0.2836 - loss: 2.1786 - val_accuracy: 0.4767 - val_loss: 1.7831\n",
      "Epoch 3/40\n",
      "\u001b[1m677/677\u001b[0m \u001b[32m━━━━━━━━━━━━━━━━━━━━\u001b[0m\u001b[37m\u001b[0m \u001b[1m0s\u001b[0m 86ms/step - accuracy: 0.3964 - loss: 1.9121\n",
      "Epoch 3: val_loss improved from 1.78314 to 1.49631, saving model to Gru_model.keras\n",
      "\u001b[1m677/677\u001b[0m \u001b[32m━━━━━━━━━━━━━━━━━━━━\u001b[0m\u001b[37m\u001b[0m \u001b[1m61s\u001b[0m 91ms/step - accuracy: 0.3964 - loss: 1.9120 - val_accuracy: 0.5850 - val_loss: 1.4963\n",
      "Epoch 4/40\n",
      "\u001b[1m677/677\u001b[0m \u001b[32m━━━━━━━━━━━━━━━━━━━━\u001b[0m\u001b[37m\u001b[0m \u001b[1m0s\u001b[0m 86ms/step - accuracy: 0.5158 - loss: 1.6016\n",
      "Epoch 4: val_loss improved from 1.49631 to 1.16582, saving model to Gru_model.keras\n",
      "\u001b[1m677/677\u001b[0m \u001b[32m━━━━━━━━━━━━━━━━━━━━\u001b[0m\u001b[37m\u001b[0m \u001b[1m61s\u001b[0m 91ms/step - accuracy: 0.5159 - loss: 1.6015 - val_accuracy: 0.7195 - val_loss: 1.1658\n",
      "Epoch 5/40\n",
      "\u001b[1m677/677\u001b[0m \u001b[32m━━━━━━━━━━━━━━━━━━━━\u001b[0m\u001b[37m\u001b[0m \u001b[1m0s\u001b[0m 86ms/step - accuracy: 0.6248 - loss: 1.3024\n",
      "Epoch 5: val_loss improved from 1.16582 to 0.92030, saving model to Gru_model.keras\n",
      "\u001b[1m677/677\u001b[0m \u001b[32m━━━━━━━━━━━━━━━━━━━━\u001b[0m\u001b[37m\u001b[0m \u001b[1m62s\u001b[0m 91ms/step - accuracy: 0.6248 - loss: 1.3024 - val_accuracy: 0.7710 - val_loss: 0.9203\n",
      "Epoch 6/40\n",
      "\u001b[1m677/677\u001b[0m \u001b[32m━━━━━━━━━━━━━━━━━━━━\u001b[0m\u001b[37m\u001b[0m \u001b[1m0s\u001b[0m 87ms/step - accuracy: 0.6997 - loss: 1.1051\n",
      "Epoch 6: val_loss improved from 0.92030 to 0.91350, saving model to Gru_model.keras\n",
      "\u001b[1m677/677\u001b[0m \u001b[32m━━━━━━━━━━━━━━━━━━━━\u001b[0m\u001b[37m\u001b[0m \u001b[1m62s\u001b[0m 91ms/step - accuracy: 0.6997 - loss: 1.1050 - val_accuracy: 0.7400 - val_loss: 0.9135\n",
      "Epoch 7/40\n",
      "\u001b[1m677/677\u001b[0m \u001b[32m━━━━━━━━━━━━━━━━━━━━\u001b[0m\u001b[37m\u001b[0m \u001b[1m0s\u001b[0m 86ms/step - accuracy: 0.7317 - loss: 0.9671\n",
      "Epoch 7: val_loss improved from 0.91350 to 0.71112, saving model to Gru_model.keras\n",
      "\u001b[1m677/677\u001b[0m \u001b[32m━━━━━━━━━━━━━━━━━━━━\u001b[0m\u001b[37m\u001b[0m \u001b[1m61s\u001b[0m 90ms/step - accuracy: 0.7318 - loss: 0.9670 - val_accuracy: 0.7990 - val_loss: 0.7111\n",
      "Epoch 8/40\n",
      "\u001b[1m677/677\u001b[0m \u001b[32m━━━━━━━━━━━━━━━━━━━━\u001b[0m\u001b[37m\u001b[0m \u001b[1m0s\u001b[0m 86ms/step - accuracy: 0.7582 - loss: 0.8609\n",
      "Epoch 8: val_loss improved from 0.71112 to 0.62105, saving model to Gru_model.keras\n",
      "\u001b[1m677/677\u001b[0m \u001b[32m━━━━━━━━━━━━━━━━━━━━\u001b[0m\u001b[37m\u001b[0m \u001b[1m61s\u001b[0m 91ms/step - accuracy: 0.7582 - loss: 0.8609 - val_accuracy: 0.8222 - val_loss: 0.6211\n",
      "Epoch 9/40\n",
      "\u001b[1m677/677\u001b[0m \u001b[32m━━━━━━━━━━━━━━━━━━━━\u001b[0m\u001b[37m\u001b[0m \u001b[1m0s\u001b[0m 85ms/step - accuracy: 0.7877 - loss: 0.7848\n",
      "Epoch 9: val_loss improved from 0.62105 to 0.57898, saving model to Gru_model.keras\n",
      "\u001b[1m677/677\u001b[0m \u001b[32m━━━━━━━━━━━━━━━━━━━━\u001b[0m\u001b[37m\u001b[0m \u001b[1m61s\u001b[0m 90ms/step - accuracy: 0.7877 - loss: 0.7848 - val_accuracy: 0.8319 - val_loss: 0.5790\n",
      "Epoch 10/40\n",
      "\u001b[1m677/677\u001b[0m \u001b[32m━━━━━━━━━━━━━━━━━━━━\u001b[0m\u001b[37m\u001b[0m \u001b[1m0s\u001b[0m 86ms/step - accuracy: 0.8023 - loss: 0.7138\n",
      "Epoch 10: val_loss improved from 0.57898 to 0.55985, saving model to Gru_model.keras\n",
      "\u001b[1m677/677\u001b[0m \u001b[32m━━━━━━━━━━━━━━━━━━━━\u001b[0m\u001b[37m\u001b[0m \u001b[1m61s\u001b[0m 91ms/step - accuracy: 0.8023 - loss: 0.7138 - val_accuracy: 0.8412 - val_loss: 0.5599\n",
      "Epoch 11/40\n",
      "\u001b[1m677/677\u001b[0m \u001b[32m━━━━━━━━━━━━━━━━━━━━\u001b[0m\u001b[37m\u001b[0m \u001b[1m0s\u001b[0m 86ms/step - accuracy: 0.8134 - loss: 0.6675\n",
      "Epoch 11: val_loss improved from 0.55985 to 0.49928, saving model to Gru_model.keras\n",
      "\u001b[1m677/677\u001b[0m \u001b[32m━━━━━━━━━━━━━━━━━━━━\u001b[0m\u001b[37m\u001b[0m \u001b[1m61s\u001b[0m 91ms/step - accuracy: 0.8134 - loss: 0.6675 - val_accuracy: 0.8595 - val_loss: 0.4993\n",
      "Epoch 12/40\n",
      "\u001b[1m677/677\u001b[0m \u001b[32m━━━━━━━━━━━━━━━━━━━━\u001b[0m\u001b[37m\u001b[0m \u001b[1m0s\u001b[0m 86ms/step - accuracy: 0.8258 - loss: 0.6274\n",
      "Epoch 12: val_loss improved from 0.49928 to 0.46197, saving model to Gru_model.keras\n",
      "\u001b[1m677/677\u001b[0m \u001b[32m━━━━━━━━━━━━━━━━━━━━\u001b[0m\u001b[37m\u001b[0m \u001b[1m61s\u001b[0m 91ms/step - accuracy: 0.8258 - loss: 0.6274 - val_accuracy: 0.8719 - val_loss: 0.4620\n",
      "Epoch 13/40\n",
      "\u001b[1m677/677\u001b[0m \u001b[32m━━━━━━━━━━━━━━━━━━━━\u001b[0m\u001b[37m\u001b[0m \u001b[1m0s\u001b[0m 86ms/step - accuracy: 0.8347 - loss: 0.5881\n",
      "Epoch 13: val_loss improved from 0.46197 to 0.46175, saving model to Gru_model.keras\n",
      "\u001b[1m677/677\u001b[0m \u001b[32m━━━━━━━━━━━━━━━━━━━━\u001b[0m\u001b[37m\u001b[0m \u001b[1m61s\u001b[0m 90ms/step - accuracy: 0.8347 - loss: 0.5881 - val_accuracy: 0.8655 - val_loss: 0.4617\n",
      "Epoch 14/40\n",
      "\u001b[1m677/677\u001b[0m \u001b[32m━━━━━━━━━━━━━━━━━━━━\u001b[0m\u001b[37m\u001b[0m \u001b[1m0s\u001b[0m 86ms/step - accuracy: 0.8457 - loss: 0.5518\n",
      "Epoch 14: val_loss improved from 0.46175 to 0.43401, saving model to Gru_model.keras\n",
      "\u001b[1m677/677\u001b[0m \u001b[32m━━━━━━━━━━━━━━━━━━━━\u001b[0m\u001b[37m\u001b[0m \u001b[1m61s\u001b[0m 90ms/step - accuracy: 0.8457 - loss: 0.5518 - val_accuracy: 0.8730 - val_loss: 0.4340\n",
      "Epoch 15/40\n",
      "\u001b[1m677/677\u001b[0m \u001b[32m━━━━━━━━━━━━━━━━━━━━\u001b[0m\u001b[37m\u001b[0m \u001b[1m0s\u001b[0m 86ms/step - accuracy: 0.8571 - loss: 0.5151\n",
      "Epoch 15: val_loss did not improve from 0.43401\n",
      "\u001b[1m677/677\u001b[0m \u001b[32m━━━━━━━━━━━━━━━━━━━━\u001b[0m\u001b[37m\u001b[0m \u001b[1m61s\u001b[0m 91ms/step - accuracy: 0.8571 - loss: 0.5151 - val_accuracy: 0.8678 - val_loss: 0.4371\n",
      "Epoch 16/40\n",
      "\u001b[1m677/677\u001b[0m \u001b[32m━━━━━━━━━━━━━━━━━━━━\u001b[0m\u001b[37m\u001b[0m \u001b[1m0s\u001b[0m 86ms/step - accuracy: 0.8623 - loss: 0.5125\n",
      "Epoch 16: val_loss improved from 0.43401 to 0.41998, saving model to Gru_model.keras\n",
      "\u001b[1m677/677\u001b[0m \u001b[32m━━━━━━━━━━━━━━━━━━━━\u001b[0m\u001b[37m\u001b[0m \u001b[1m61s\u001b[0m 91ms/step - accuracy: 0.8623 - loss: 0.5125 - val_accuracy: 0.8786 - val_loss: 0.4200\n",
      "Epoch 17/40\n",
      "\u001b[1m677/677\u001b[0m \u001b[32m━━━━━━━━━━━━━━━━━━━━\u001b[0m\u001b[37m\u001b[0m \u001b[1m0s\u001b[0m 88ms/step - accuracy: 0.8699 - loss: 0.4663\n",
      "Epoch 17: val_loss did not improve from 0.41998\n",
      "\u001b[1m677/677\u001b[0m \u001b[32m━━━━━━━━━━━━━━━━━━━━\u001b[0m\u001b[37m\u001b[0m \u001b[1m63s\u001b[0m 93ms/step - accuracy: 0.8699 - loss: 0.4663 - val_accuracy: 0.8614 - val_loss: 0.4750\n",
      "Epoch 18/40\n",
      "\u001b[1m677/677\u001b[0m \u001b[32m━━━━━━━━━━━━━━━━━━━━\u001b[0m\u001b[37m\u001b[0m \u001b[1m0s\u001b[0m 86ms/step - accuracy: 0.8776 - loss: 0.4522\n",
      "Epoch 18: val_loss did not improve from 0.41998\n",
      "\u001b[1m677/677\u001b[0m \u001b[32m━━━━━━━━━━━━━━━━━━━━\u001b[0m\u001b[37m\u001b[0m \u001b[1m61s\u001b[0m 90ms/step - accuracy: 0.8776 - loss: 0.4522 - val_accuracy: 0.8704 - val_loss: 0.4518\n",
      "Epoch 19/40\n",
      "\u001b[1m677/677\u001b[0m \u001b[32m━━━━━━━━━━━━━━━━━━━━\u001b[0m\u001b[37m\u001b[0m \u001b[1m0s\u001b[0m 86ms/step - accuracy: 0.8826 - loss: 0.4294\n",
      "Epoch 19: val_loss improved from 0.41998 to 0.39324, saving model to Gru_model.keras\n",
      "\u001b[1m677/677\u001b[0m \u001b[32m━━━━━━━━━━━━━━━━━━━━\u001b[0m\u001b[37m\u001b[0m \u001b[1m61s\u001b[0m 90ms/step - accuracy: 0.8826 - loss: 0.4294 - val_accuracy: 0.8853 - val_loss: 0.3932\n",
      "Epoch 20/40\n",
      "\u001b[1m677/677\u001b[0m \u001b[32m━━━━━━━━━━━━━━━━━━━━\u001b[0m\u001b[37m\u001b[0m \u001b[1m0s\u001b[0m 86ms/step - accuracy: 0.8830 - loss: 0.4184\n",
      "Epoch 20: val_loss did not improve from 0.39324\n",
      "\u001b[1m677/677\u001b[0m \u001b[32m━━━━━━━━━━━━━━━━━━━━\u001b[0m\u001b[37m\u001b[0m \u001b[1m61s\u001b[0m 90ms/step - accuracy: 0.8830 - loss: 0.4184 - val_accuracy: 0.8685 - val_loss: 0.4692\n",
      "Epoch 21/40\n",
      "\u001b[1m677/677\u001b[0m \u001b[32m━━━━━━━━━━━━━━━━━━━━\u001b[0m\u001b[37m\u001b[0m \u001b[1m0s\u001b[0m 86ms/step - accuracy: 0.8879 - loss: 0.4132\n",
      "Epoch 21: val_loss improved from 0.39324 to 0.38358, saving model to Gru_model.keras\n",
      "\u001b[1m677/677\u001b[0m \u001b[32m━━━━━━━━━━━━━━━━━━━━\u001b[0m\u001b[37m\u001b[0m \u001b[1m61s\u001b[0m 90ms/step - accuracy: 0.8879 - loss: 0.4132 - val_accuracy: 0.8932 - val_loss: 0.3836\n",
      "Epoch 22/40\n",
      "\u001b[1m677/677\u001b[0m \u001b[32m━━━━━━━━━━━━━━━━━━━━\u001b[0m\u001b[37m\u001b[0m \u001b[1m0s\u001b[0m 86ms/step - accuracy: 0.8945 - loss: 0.3873\n",
      "Epoch 22: val_loss did not improve from 0.38358\n",
      "\u001b[1m677/677\u001b[0m \u001b[32m━━━━━━━━━━━━━━━━━━━━\u001b[0m\u001b[37m\u001b[0m \u001b[1m61s\u001b[0m 90ms/step - accuracy: 0.8945 - loss: 0.3873 - val_accuracy: 0.8696 - val_loss: 0.4549\n",
      "Epoch 23/40\n",
      "\u001b[1m677/677\u001b[0m \u001b[32m━━━━━━━━━━━━━━━━━━━━\u001b[0m\u001b[37m\u001b[0m \u001b[1m0s\u001b[0m 86ms/step - accuracy: 0.8978 - loss: 0.3834\n",
      "Epoch 23: val_loss did not improve from 0.38358\n",
      "\u001b[1m677/677\u001b[0m \u001b[32m━━━━━━━━━━━━━━━━━━━━\u001b[0m\u001b[37m\u001b[0m \u001b[1m61s\u001b[0m 90ms/step - accuracy: 0.8978 - loss: 0.3834 - val_accuracy: 0.8827 - val_loss: 0.4200\n",
      "Epoch 24/40\n",
      "\u001b[1m677/677\u001b[0m \u001b[32m━━━━━━━━━━━━━━━━━━━━\u001b[0m\u001b[37m\u001b[0m \u001b[1m0s\u001b[0m 86ms/step - accuracy: 0.9087 - loss: 0.3416\n",
      "Epoch 24: val_loss did not improve from 0.38358\n",
      "\u001b[1m677/677\u001b[0m \u001b[32m━━━━━━━━━━━━━━━━━━━━\u001b[0m\u001b[37m\u001b[0m \u001b[1m61s\u001b[0m 91ms/step - accuracy: 0.9087 - loss: 0.3416 - val_accuracy: 0.8812 - val_loss: 0.4258\n",
      "Epoch 25/40\n",
      "\u001b[1m677/677\u001b[0m \u001b[32m━━━━━━━━━━━━━━━━━━━━\u001b[0m\u001b[37m\u001b[0m \u001b[1m0s\u001b[0m 86ms/step - accuracy: 0.9033 - loss: 0.3524\n",
      "Epoch 25: val_loss improved from 0.38358 to 0.37323, saving model to Gru_model.keras\n",
      "\u001b[1m677/677\u001b[0m \u001b[32m━━━━━━━━━━━━━━━━━━━━\u001b[0m\u001b[37m\u001b[0m \u001b[1m62s\u001b[0m 91ms/step - accuracy: 0.9033 - loss: 0.3524 - val_accuracy: 0.8965 - val_loss: 0.3732\n",
      "Epoch 26/40\n",
      "\u001b[1m677/677\u001b[0m \u001b[32m━━━━━━━━━━━━━━━━━━━━\u001b[0m\u001b[37m\u001b[0m \u001b[1m0s\u001b[0m 87ms/step - accuracy: 0.9159 - loss: 0.3232\n",
      "Epoch 26: val_loss did not improve from 0.37323\n",
      "\u001b[1m677/677\u001b[0m \u001b[32m━━━━━━━━━━━━━━━━━━━━\u001b[0m\u001b[37m\u001b[0m \u001b[1m62s\u001b[0m 91ms/step - accuracy: 0.9159 - loss: 0.3233 - val_accuracy: 0.8954 - val_loss: 0.3833\n",
      "Epoch 27/40\n",
      "\u001b[1m677/677\u001b[0m \u001b[32m━━━━━━━━━━━━━━━━━━━━\u001b[0m\u001b[37m\u001b[0m \u001b[1m0s\u001b[0m 86ms/step - accuracy: 0.9078 - loss: 0.3255\n",
      "Epoch 27: val_loss did not improve from 0.37323\n",
      "\u001b[1m677/677\u001b[0m \u001b[32m━━━━━━━━━━━━━━━━━━━━\u001b[0m\u001b[37m\u001b[0m \u001b[1m61s\u001b[0m 91ms/step - accuracy: 0.9078 - loss: 0.3255 - val_accuracy: 0.8861 - val_loss: 0.4198\n",
      "Epoch 28/40\n",
      "\u001b[1m677/677\u001b[0m \u001b[32m━━━━━━━━━━━━━━━━━━━━\u001b[0m\u001b[37m\u001b[0m \u001b[1m0s\u001b[0m 87ms/step - accuracy: 0.9175 - loss: 0.2968\n",
      "Epoch 28: val_loss did not improve from 0.37323\n",
      "\u001b[1m677/677\u001b[0m \u001b[32m━━━━━━━━━━━━━━━━━━━━\u001b[0m\u001b[37m\u001b[0m \u001b[1m62s\u001b[0m 92ms/step - accuracy: 0.9175 - loss: 0.2968 - val_accuracy: 0.8827 - val_loss: 0.4419\n",
      "Epoch 29/40\n",
      "\u001b[1m677/677\u001b[0m \u001b[32m━━━━━━━━━━━━━━━━━━━━\u001b[0m\u001b[37m\u001b[0m \u001b[1m0s\u001b[0m 87ms/step - accuracy: 0.9246 - loss: 0.2855\n",
      "Epoch 29: val_loss did not improve from 0.37323\n",
      "\u001b[1m677/677\u001b[0m \u001b[32m━━━━━━━━━━━━━━━━━━━━\u001b[0m\u001b[37m\u001b[0m \u001b[1m62s\u001b[0m 91ms/step - accuracy: 0.9246 - loss: 0.2855 - val_accuracy: 0.8808 - val_loss: 0.4614\n",
      "Epoch 30/40\n",
      "\u001b[1m677/677\u001b[0m \u001b[32m━━━━━━━━━━━━━━━━━━━━\u001b[0m\u001b[37m\u001b[0m \u001b[1m0s\u001b[0m 86ms/step - accuracy: 0.9202 - loss: 0.2863\n",
      "Epoch 30: val_loss did not improve from 0.37323\n",
      "\u001b[1m677/677\u001b[0m \u001b[32m━━━━━━━━━━━━━━━━━━━━\u001b[0m\u001b[37m\u001b[0m \u001b[1m61s\u001b[0m 91ms/step - accuracy: 0.9202 - loss: 0.2863 - val_accuracy: 0.8958 - val_loss: 0.3776\n",
      "Epoch 31/40\n",
      "\u001b[1m677/677\u001b[0m \u001b[32m━━━━━━━━━━━━━━━━━━━━\u001b[0m\u001b[37m\u001b[0m \u001b[1m0s\u001b[0m 86ms/step - accuracy: 0.9259 - loss: 0.2705\n",
      "Epoch 31: val_loss improved from 0.37323 to 0.36235, saving model to Gru_model.keras\n",
      "\u001b[1m677/677\u001b[0m \u001b[32m━━━━━━━━━━━━━━━━━━━━\u001b[0m\u001b[37m\u001b[0m \u001b[1m61s\u001b[0m 91ms/step - accuracy: 0.9259 - loss: 0.2705 - val_accuracy: 0.9021 - val_loss: 0.3623\n",
      "Epoch 32/40\n",
      "\u001b[1m677/677\u001b[0m \u001b[32m━━━━━━━━━━━━━━━━━━━━\u001b[0m\u001b[37m\u001b[0m \u001b[1m0s\u001b[0m 86ms/step - accuracy: 0.9295 - loss: 0.2595\n",
      "Epoch 32: val_loss did not improve from 0.36235\n",
      "\u001b[1m677/677\u001b[0m \u001b[32m━━━━━━━━━━━━━━━━━━━━\u001b[0m\u001b[37m\u001b[0m \u001b[1m61s\u001b[0m 91ms/step - accuracy: 0.9295 - loss: 0.2595 - val_accuracy: 0.8984 - val_loss: 0.3988\n",
      "Epoch 33/40\n",
      "\u001b[1m677/677\u001b[0m \u001b[32m━━━━━━━━━━━━━━━━━━━━\u001b[0m\u001b[37m\u001b[0m \u001b[1m0s\u001b[0m 86ms/step - accuracy: 0.9319 - loss: 0.2611\n",
      "Epoch 33: val_loss did not improve from 0.36235\n",
      "\u001b[1m677/677\u001b[0m \u001b[32m━━━━━━━━━━━━━━━━━━━━\u001b[0m\u001b[37m\u001b[0m \u001b[1m61s\u001b[0m 90ms/step - accuracy: 0.9319 - loss: 0.2611 - val_accuracy: 0.8872 - val_loss: 0.4208\n",
      "Epoch 34/40\n",
      "\u001b[1m677/677\u001b[0m \u001b[32m━━━━━━━━━━━━━━━━━━━━\u001b[0m\u001b[37m\u001b[0m \u001b[1m0s\u001b[0m 86ms/step - accuracy: 0.9324 - loss: 0.2465\n",
      "Epoch 34: val_loss did not improve from 0.36235\n",
      "\u001b[1m677/677\u001b[0m \u001b[32m━━━━━━━━━━━━━━━━━━━━\u001b[0m\u001b[37m\u001b[0m \u001b[1m61s\u001b[0m 91ms/step - accuracy: 0.9324 - loss: 0.2465 - val_accuracy: 0.8872 - val_loss: 0.4590\n",
      "Epoch 35/40\n",
      "\u001b[1m677/677\u001b[0m \u001b[32m━━━━━━━━━━━━━━━━━━━━\u001b[0m\u001b[37m\u001b[0m \u001b[1m0s\u001b[0m 86ms/step - accuracy: 0.9341 - loss: 0.2401\n",
      "Epoch 35: val_loss did not improve from 0.36235\n",
      "\u001b[1m677/677\u001b[0m \u001b[32m━━━━━━━━━━━━━━━━━━━━\u001b[0m\u001b[37m\u001b[0m \u001b[1m61s\u001b[0m 91ms/step - accuracy: 0.9341 - loss: 0.2401 - val_accuracy: 0.8939 - val_loss: 0.4257\n",
      "Epoch 36/40\n",
      "\u001b[1m677/677\u001b[0m \u001b[32m━━━━━━━━━━━━━━━━━━━━\u001b[0m\u001b[37m\u001b[0m \u001b[1m0s\u001b[0m 86ms/step - accuracy: 0.9348 - loss: 0.2404\n",
      "Epoch 36: val_loss did not improve from 0.36235\n",
      "\u001b[1m677/677\u001b[0m \u001b[32m━━━━━━━━━━━━━━━━━━━━\u001b[0m\u001b[37m\u001b[0m \u001b[1m61s\u001b[0m 90ms/step - accuracy: 0.9348 - loss: 0.2404 - val_accuracy: 0.8991 - val_loss: 0.4054\n",
      "Epoch 37/40\n",
      "\u001b[1m677/677\u001b[0m \u001b[32m━━━━━━━━━━━━━━━━━━━━\u001b[0m\u001b[37m\u001b[0m \u001b[1m0s\u001b[0m 86ms/step - accuracy: 0.9402 - loss: 0.2260\n",
      "Epoch 37: val_loss did not improve from 0.36235\n",
      "\u001b[1m677/677\u001b[0m \u001b[32m━━━━━━━━━━━━━━━━━━━━\u001b[0m\u001b[37m\u001b[0m \u001b[1m62s\u001b[0m 91ms/step - accuracy: 0.9402 - loss: 0.2260 - val_accuracy: 0.8943 - val_loss: 0.4261\n",
      "Epoch 38/40\n",
      "\u001b[1m677/677\u001b[0m \u001b[32m━━━━━━━━━━━━━━━━━━━━\u001b[0m\u001b[37m\u001b[0m \u001b[1m0s\u001b[0m 87ms/step - accuracy: 0.9437 - loss: 0.2108\n",
      "Epoch 38: val_loss did not improve from 0.36235\n",
      "\u001b[1m677/677\u001b[0m \u001b[32m━━━━━━━━━━━━━━━━━━━━\u001b[0m\u001b[37m\u001b[0m \u001b[1m62s\u001b[0m 91ms/step - accuracy: 0.9437 - loss: 0.2108 - val_accuracy: 0.8935 - val_loss: 0.4383\n",
      "Epoch 39/40\n",
      "\u001b[1m677/677\u001b[0m \u001b[32m━━━━━━━━━━━━━━━━━━━━\u001b[0m\u001b[37m\u001b[0m \u001b[1m0s\u001b[0m 88ms/step - accuracy: 0.9439 - loss: 0.2143\n",
      "Epoch 39: val_loss did not improve from 0.36235\n",
      "\u001b[1m677/677\u001b[0m \u001b[32m━━━━━━━━━━━━━━━━━━━━\u001b[0m\u001b[37m\u001b[0m \u001b[1m63s\u001b[0m 92ms/step - accuracy: 0.9439 - loss: 0.2143 - val_accuracy: 0.8820 - val_loss: 0.4938\n",
      "Epoch 40/40\n",
      "\u001b[1m677/677\u001b[0m \u001b[32m━━━━━━━━━━━━━━━━━━━━\u001b[0m\u001b[37m\u001b[0m \u001b[1m0s\u001b[0m 86ms/step - accuracy: 0.9471 - loss: 0.2058\n",
      "Epoch 40: val_loss did not improve from 0.36235\n",
      "\u001b[1m677/677\u001b[0m \u001b[32m━━━━━━━━━━━━━━━━━━━━\u001b[0m\u001b[37m\u001b[0m \u001b[1m61s\u001b[0m 91ms/step - accuracy: 0.9471 - loss: 0.2058 - val_accuracy: 0.9036 - val_loss: 0.4178\n"
     ]
    }
   ],
   "source": [
    "from tensorflow.keras.models import load_model\n",
    "from tensorflow.keras.callbacks import ModelCheckpoint\n",
    "\n",
    "checkpoint_callback = ModelCheckpoint(\n",
    "    filepath=\"Gru_model.keras\",\n",
    "    monitor=\"val_loss\",\n",
    "    save_best_only=True,\n",
    "    save_weights_only=False,\n",
    "    mode=\"min\",\n",
    "    verbose=1\n",
    ")\n",
    "\n",
    "history = model1.fit(\n",
    "    X_train, y_train,\n",
    "    batch_size=32,\n",
    "    epochs=40,\n",
    "    validation_split=0.11,\n",
    "    callbacks=[checkpoint_callback],\n",
    "    verbose=1\n",
    ")"
   ]
  },
  {
   "cell_type": "markdown",
   "metadata": {},
   "source": [
    "### Tính toán các độ đo "
   ]
  },
  {
   "cell_type": "code",
   "execution_count": 18,
   "metadata": {
    "execution": {
     "iopub.execute_input": "2025-06-15T09:20:17.253438Z",
     "iopub.status.busy": "2025-06-15T09:20:17.253188Z",
     "iopub.status.idle": "2025-06-15T09:20:23.358876Z",
     "shell.execute_reply": "2025-06-15T09:20:23.358052Z",
     "shell.execute_reply.started": "2025-06-15T09:20:17.253419Z"
    },
    "id": "sFGsjogVeGbN",
    "outputId": "500bb381-009c-4e80-8717-c81b001a7fd3",
    "trusted": true
   },
   "outputs": [
    {
     "name": "stdout",
     "output_type": "stream",
     "text": [
      "✅ Mô hình đã được load thành công từ best_model.keras\n",
      "\u001b[1m135/135\u001b[0m \u001b[32m━━━━━━━━━━━━━━━━━━━━\u001b[0m\u001b[37m\u001b[0m \u001b[1m6s\u001b[0m 39ms/step\n",
      "✅ Accuracy: 0.9036\n",
      "✅ Precision: 0.9074\n",
      "✅ Recall: 0.9061\n",
      "✅ F1-score: 0.9062\n"
     ]
    }
   ],
   "source": [
    "from tensorflow.keras.models import load_model\n",
    "from sklearn.metrics import accuracy_score, precision_score, recall_score, f1_score\n",
    "import numpy as np\n",
    "\n",
    "# Load mô hình đã lưu từ file H5\n",
    "model1 = load_model(\"/kaggle/working/Gru_model.keras\")\n",
    "print(\"✅ Mô hình đã được load thành công từ best_model.keras\")\n",
    "\n",
    "# Dự đoán trên tập kiểm tra\n",
    "y_preds = model1.predict(X_test)\n",
    "y_preds = np.argmax(y_preds, axis=1)  # Chuyển dự đoán thành nhãn\n",
    "\n",
    "# Nếu y_test là one-hot vector, chuyển về dạng index\n",
    "if len(y_test.shape) > 1 and y_test.shape[1] > 1:\n",
    "    y_test = np.argmax(y_test, axis=1)\n",
    "\n",
    "# Tính các độ đo đánh giá\n",
    "accuracy = accuracy_score(y_test, y_preds)\n",
    "precision = precision_score(y_test, y_preds, average='macro')\n",
    "recall= recall_score(y_test, y_preds, average='macro')\n",
    "f1 = f1_score(y_test, y_preds, average='macro')\n",
    "\n",
    "# In kết quả\n",
    "print(f\"✅ Accuracy: {accuracy:.4f}\")\n",
    "print(f\"✅ Precision: {precision:.4f}\")\n",
    "print(f\"✅ Recall: {recall:.4f}\")\n",
    "print(f\"✅ F1-score: {f1:.4f}\")"
   ]
  },
  {
   "cell_type": "markdown",
   "metadata": {},
   "source": [
    "### Ma trận nhầm lẫn"
   ]
  },
  {
   "cell_type": "code",
   "execution_count": 19,
   "metadata": {
    "execution": {
     "iopub.execute_input": "2025-06-15T09:20:23.360048Z",
     "iopub.status.busy": "2025-06-15T09:20:23.359749Z",
     "iopub.status.idle": "2025-06-15T09:20:23.415470Z",
     "shell.execute_reply": "2025-06-15T09:20:23.414601Z",
     "shell.execute_reply.started": "2025-06-15T09:20:23.360020Z"
    },
    "id": "W8jPS0zbeGbN",
    "trusted": true
   },
   "outputs": [],
   "source": [
    "import matplotlib.pyplot as plt\n",
    "import seaborn as sns\n",
    "from sklearn.metrics import confusion_matrix\n",
    "def confusionMatrix(y_actual, pred):\n",
    "    confusion_matrix(y_actual, pred)\n",
    "\n",
    "    cm = confusion_matrix(y_actual, pred)\n",
    "\n",
    "    plt.imshow(cm, interpolation='nearest', cmap=plt.cm.Blues)\n",
    "    plt.title('Confusion matrix')\n",
    "    plt.colorbar()\n",
    "\n",
    "    tick_marks = np.arange(13)\n",
    "    plt.xticks(tick_marks, ohe.categories_[0], rotation=90)  # Lấy danh sách các nhãn\n",
    "    plt.yticks(tick_marks, ohe.categories_[0], rotation=0)\n",
    "\n",
    "    thresh = cm.max() / 10.\n",
    "    for i, j in np.ndindex(cm.shape):\n",
    "        plt.text(j, i, format(cm[i, j], 'd'),\n",
    "                horizontalalignment=\"center\",\n",
    "                color=\"white\" if cm[i, j] > thresh else \"black\")\n",
    "\n",
    "    plt.ylabel('True label')\n",
    "    plt.xlabel('Predicted label')\n",
    "    plt.tight_layout()\n",
    "    plt.show()"
   ]
  },
  {
   "cell_type": "code",
   "execution_count": 20,
   "metadata": {
    "execution": {
     "iopub.execute_input": "2025-06-15T09:20:23.416716Z",
     "iopub.status.busy": "2025-06-15T09:20:23.416286Z",
     "iopub.status.idle": "2025-06-15T09:20:23.963192Z",
     "shell.execute_reply": "2025-06-15T09:20:23.962465Z",
     "shell.execute_reply.started": "2025-06-15T09:20:23.416695Z"
    },
    "id": "Nfv15DageGbN",
    "outputId": "9d58146f-3934-4bdf-8542-5764bcf9c324",
    "trusted": true
   },
   "outputs": [
    {
     "data": {
      "image/png": "[encoded data removed]",
      "text/plain": [
       "<Figure size 640x480 with 2 Axes>"
      ]
     },
     "metadata": {},
     "output_type": "display_data"
    }
   ],
   "source": [
    "confusionMatrix(y_test, y_preds)"
   ]
  }
 ],
 "metadata": {
  "accelerator": "GPU",
  "colab": {
   "gpuType": "T4",
   "provenance": []
  },
  "kaggle": {
   "accelerator": "nvidiaTeslaT4",
   "dataSources": [
    {
     "datasetId": 6968544,
     "sourceId": 11166808,
     "sourceType": "datasetVersion"
    },
    {
     "datasetId": 6968602,
     "sourceId": 11166918,
     "sourceType": "datasetVersion"
    },
    {
     "datasetId": 6987525,
     "sourceId": 11192888,
     "sourceType": "datasetVersion"
    },
    {
     "datasetId": 6989161,
     "sourceId": 11195066,
     "sourceType": "datasetVersion"
    },
    {
     "datasetId": 7664328,
     "sourceId": 12169022,
     "sourceType": "datasetVersion"
    },
    {
     "datasetId": 7664329,
     "sourceId": 12169023,
     "sourceType": "datasetVersion"
    }
   ],
   "dockerImageVersionId": 31041,
   "isGpuEnabled": true,
   "isInternetEnabled": true,
   "language": "python",
   "sourceType": "notebook"
  },
  "kernelspec": {
   "display_name": "Python 3",
   "language": "python",
   "name": "python3"
  },
  "language_info": {
   "codemirror_mode": {
    "name": "ipython",
    "version": 3
   },
   "file_extension": ".py",
   "mimetype": "text/x-python",
   "name": "python",
   "nbconvert_exporter": "python",
   "pygments_lexer": "ipython3",
   "version": "3.11.8"
  }
 },
 "nbformat": 4,
 "nbformat_minor": 4
}
